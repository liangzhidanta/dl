{
  "cells": [
    {
      "cell_type": "markdown",
      "metadata": {
        "colab_type": "text",
        "id": "view-in-github"
      },
      "source": [
        "<a href=\"https://colab.research.google.com/github/liangzhidanta/dl/blob/%E5%8E%9F%E5%A7%8B%E4%BD%9C%E4%B8%9A%E5%88%86%E6%94%AF/HW02/HW02-2.ipynb\" target=\"_parent\"><img src=\"https://colab.research.google.com/assets/colab-badge.svg\" alt=\"Open In Colab\"/></a>"
      ]
    },
    {
      "cell_type": "markdown",
      "metadata": {
        "id": "eNSV4QGHS1I1"
      },
      "source": [
        "# **Homework 2-2 Hessian Matrix**\n",
        "\n",
        "* Slides: https://speech.ee.ntu.edu.tw/~hylee/ml/ml2021-course-data/hw/HW02/HW02.pdf\n",
        "* Video (Chinese): https://youtu.be/PdjXnQbu2zo\n",
        "* Video (English): https://youtu.be/ESRr-VCykBs\n"
      ]
    },
    {
      "cell_type": "markdown",
      "metadata": {
        "id": "z0eNH3RD73Ye"
      },
      "source": [
        "## Hessian Matrix\n",
        "Imagine we are training a neural network and we are trying to find out whether the model is at **local minima like, saddle point, or none of the above**. We can make our decision by calculating the Hessian matrix.\n",
        "\n",
        "In practice, it is really hard to find a point where the gradient equals zero or all of the eigenvalues in Hessian matrix are greater than zero. In this homework, we make the following two assumptions:\n",
        "1. View gradient norm less than 1e-3 as **gradient equals to zero**.\n",
        "2. If minimum ratio is greater than 0.5 and gradient norm is less than 1e-3, then we assume that the model is at “local minima like”.\n",
        "\n",
        "> Minimum ratio is defined as the proportion of positive eigenvalues."
      ]
    },
    {
      "cell_type": "markdown",
      "metadata": {
        "id": "lezCgM8U8KJl"
      },
      "source": [
        "## IMPORTANT NOTICE\n",
        "In this homework, students with different student IDs will get different answers. Make sure to fill in your `student_id` in the following block correctly. Otherwise, your code may not run correctly and you will get a wrong answer."
      ]
    },
    {
      "cell_type": "code",
      "execution_count": 24,
      "metadata": {
        "colab": {
          "base_uri": "https://localhost:8080/",
          "height": 181
        },
        "id": "Bbr6MTQ488GH",
        "outputId": "6015ca9f-5106-4819-9543-9a08785b8df9"
      },
      "outputs": [],
      "source": [
        "student_id = '20001029' # fill with your student ID\n",
        "\n",
        "assert student_id != 'your_student_id', 'Please fill in your student_id before you start.'"
      ]
    },
    {
      "cell_type": "markdown",
      "metadata": {
        "id": "XHz08Ybg-dmB"
      },
      "source": [
        "## Calculate Hessian Matrix\n",
        "The computation of Hessian is done by TA, you don't need to and shouldn't change the following code. The only thing you need to do is to run the following blocks and determine whether the model is at `local minima like`, `saddle point`, or `none of the above` according to the value of `gradient norm` and `minimum ratio`."
      ]
    },
    {
      "cell_type": "markdown",
      "metadata": {
        "id": "zvDeNevCUvDW"
      },
      "source": [
        "### Install Package to Compute Hessian.\n",
        "\n",
        "The autograd-lib library is used to compute Hessian matrix. You can check the full document here https://github.com/cybertronai/autograd-lib."
      ]
    },
    {
      "cell_type": "code",
      "execution_count": 25,
      "metadata": {
        "colab": {
          "base_uri": "https://localhost:8080/"
        },
        "id": "r135K45psHwF",
        "outputId": "8492ab08-8ad9-4525-db9c-35884eaa0641"
      },
      "outputs": [
        {
          "name": "stdout",
          "output_type": "stream",
          "text": [
            "Looking in indexes: https://pypi.tuna.tsinghua.edu.cn/simple/\n",
            "Requirement already satisfied: autograd-lib in d:\\miniconda3\\envs\\dl\\lib\\site-packages (0.0.7)\n",
            "Requirement already satisfied: gin-config in d:\\miniconda3\\envs\\dl\\lib\\site-packages (from autograd-lib) (0.5.0)\n",
            "Requirement already satisfied: seaborn in d:\\miniconda3\\envs\\dl\\lib\\site-packages (from autograd-lib) (0.13.2)\n",
            "Requirement already satisfied: pytorch-lightning in d:\\miniconda3\\envs\\dl\\lib\\site-packages (from autograd-lib) (2.5.0.post0)\n",
            "Requirement already satisfied: torch>=2.1.0 in d:\\miniconda3\\envs\\dl\\lib\\site-packages (from pytorch-lightning->autograd-lib) (2.5.1)\n",
            "Requirement already satisfied: tqdm>=4.57.0 in d:\\miniconda3\\envs\\dl\\lib\\site-packages (from pytorch-lightning->autograd-lib) (4.67.1)\n",
            "Requirement already satisfied: PyYAML>=5.4 in d:\\miniconda3\\envs\\dl\\lib\\site-packages (from pytorch-lightning->autograd-lib) (6.0.2)\n",
            "Requirement already satisfied: fsspec>=2022.5.0 in d:\\miniconda3\\envs\\dl\\lib\\site-packages (from fsspec[http]>=2022.5.0->pytorch-lightning->autograd-lib) (2025.2.0)\n",
            "Requirement already satisfied: torchmetrics>=0.7.0 in d:\\miniconda3\\envs\\dl\\lib\\site-packages (from pytorch-lightning->autograd-lib) (1.6.1)\n",
            "Requirement already satisfied: packaging>=20.0 in d:\\miniconda3\\envs\\dl\\lib\\site-packages (from pytorch-lightning->autograd-lib) (24.2)\n",
            "Requirement already satisfied: typing-extensions>=4.4.0 in d:\\miniconda3\\envs\\dl\\lib\\site-packages (from pytorch-lightning->autograd-lib) (4.12.2)\n",
            "Requirement already satisfied: lightning-utilities>=0.10.0 in d:\\miniconda3\\envs\\dl\\lib\\site-packages (from pytorch-lightning->autograd-lib) (0.12.0)\n",
            "Requirement already satisfied: numpy!=1.24.0,>=1.20 in d:\\miniconda3\\envs\\dl\\lib\\site-packages (from seaborn->autograd-lib) (2.0.1)\n",
            "Requirement already satisfied: pandas>=1.2 in d:\\miniconda3\\envs\\dl\\lib\\site-packages (from seaborn->autograd-lib) (2.2.3)\n",
            "Requirement already satisfied: matplotlib!=3.6.1,>=3.4 in d:\\miniconda3\\envs\\dl\\lib\\site-packages (from seaborn->autograd-lib) (3.10.0)\n",
            "Requirement already satisfied: aiohttp!=4.0.0a0,!=4.0.0a1 in d:\\miniconda3\\envs\\dl\\lib\\site-packages (from fsspec[http]>=2022.5.0->pytorch-lightning->autograd-lib) (3.11.12)\n",
            "Requirement already satisfied: setuptools in d:\\miniconda3\\envs\\dl\\lib\\site-packages (from lightning-utilities>=0.10.0->pytorch-lightning->autograd-lib) (75.8.0)\n",
            "Requirement already satisfied: contourpy>=1.0.1 in d:\\miniconda3\\envs\\dl\\lib\\site-packages (from matplotlib!=3.6.1,>=3.4->seaborn->autograd-lib) (1.3.1)\n",
            "Requirement already satisfied: cycler>=0.10 in d:\\miniconda3\\envs\\dl\\lib\\site-packages (from matplotlib!=3.6.1,>=3.4->seaborn->autograd-lib) (0.12.1)\n",
            "Requirement already satisfied: fonttools>=4.22.0 in d:\\miniconda3\\envs\\dl\\lib\\site-packages (from matplotlib!=3.6.1,>=3.4->seaborn->autograd-lib) (4.55.8)\n",
            "Requirement already satisfied: kiwisolver>=1.3.1 in d:\\miniconda3\\envs\\dl\\lib\\site-packages (from matplotlib!=3.6.1,>=3.4->seaborn->autograd-lib) (1.4.8)\n",
            "Requirement already satisfied: pillow>=8 in d:\\miniconda3\\envs\\dl\\lib\\site-packages (from matplotlib!=3.6.1,>=3.4->seaborn->autograd-lib) (11.1.0)\n",
            "Requirement already satisfied: pyparsing>=2.3.1 in d:\\miniconda3\\envs\\dl\\lib\\site-packages (from matplotlib!=3.6.1,>=3.4->seaborn->autograd-lib) (3.2.1)\n",
            "Requirement already satisfied: python-dateutil>=2.7 in d:\\miniconda3\\envs\\dl\\lib\\site-packages (from matplotlib!=3.6.1,>=3.4->seaborn->autograd-lib) (2.9.0.post0)\n",
            "Requirement already satisfied: pytz>=2020.1 in d:\\miniconda3\\envs\\dl\\lib\\site-packages (from pandas>=1.2->seaborn->autograd-lib) (2025.1)\n",
            "Requirement already satisfied: tzdata>=2022.7 in d:\\miniconda3\\envs\\dl\\lib\\site-packages (from pandas>=1.2->seaborn->autograd-lib) (2025.1)\n",
            "Requirement already satisfied: filelock in d:\\miniconda3\\envs\\dl\\lib\\site-packages (from torch>=2.1.0->pytorch-lightning->autograd-lib) (3.13.1)\n",
            "Requirement already satisfied: sympy==1.13.1 in d:\\miniconda3\\envs\\dl\\lib\\site-packages (from torch>=2.1.0->pytorch-lightning->autograd-lib) (1.13.1)\n",
            "Requirement already satisfied: networkx in d:\\miniconda3\\envs\\dl\\lib\\site-packages (from torch>=2.1.0->pytorch-lightning->autograd-lib) (3.4.2)\n",
            "Requirement already satisfied: jinja2 in d:\\miniconda3\\envs\\dl\\lib\\site-packages (from torch>=2.1.0->pytorch-lightning->autograd-lib) (3.1.5)\n",
            "Requirement already satisfied: mpmath<1.4,>=1.1.0 in d:\\miniconda3\\envs\\dl\\lib\\site-packages (from sympy==1.13.1->torch>=2.1.0->pytorch-lightning->autograd-lib) (1.3.0)\n",
            "Requirement already satisfied: colorama in d:\\miniconda3\\envs\\dl\\lib\\site-packages (from tqdm>=4.57.0->pytorch-lightning->autograd-lib) (0.4.6)\n",
            "Requirement already satisfied: aiohappyeyeballs>=2.3.0 in d:\\miniconda3\\envs\\dl\\lib\\site-packages (from aiohttp!=4.0.0a0,!=4.0.0a1->fsspec[http]>=2022.5.0->pytorch-lightning->autograd-lib) (2.4.4)\n",
            "Requirement already satisfied: aiosignal>=1.1.2 in d:\\miniconda3\\envs\\dl\\lib\\site-packages (from aiohttp!=4.0.0a0,!=4.0.0a1->fsspec[http]>=2022.5.0->pytorch-lightning->autograd-lib) (1.3.2)\n",
            "Requirement already satisfied: attrs>=17.3.0 in d:\\miniconda3\\envs\\dl\\lib\\site-packages (from aiohttp!=4.0.0a0,!=4.0.0a1->fsspec[http]>=2022.5.0->pytorch-lightning->autograd-lib) (25.1.0)\n",
            "Requirement already satisfied: frozenlist>=1.1.1 in d:\\miniconda3\\envs\\dl\\lib\\site-packages (from aiohttp!=4.0.0a0,!=4.0.0a1->fsspec[http]>=2022.5.0->pytorch-lightning->autograd-lib) (1.5.0)\n",
            "Requirement already satisfied: multidict<7.0,>=4.5 in d:\\miniconda3\\envs\\dl\\lib\\site-packages (from aiohttp!=4.0.0a0,!=4.0.0a1->fsspec[http]>=2022.5.0->pytorch-lightning->autograd-lib) (6.1.0)\n",
            "Requirement already satisfied: propcache>=0.2.0 in d:\\miniconda3\\envs\\dl\\lib\\site-packages (from aiohttp!=4.0.0a0,!=4.0.0a1->fsspec[http]>=2022.5.0->pytorch-lightning->autograd-lib) (0.2.1)\n",
            "Requirement already satisfied: yarl<2.0,>=1.17.0 in d:\\miniconda3\\envs\\dl\\lib\\site-packages (from aiohttp!=4.0.0a0,!=4.0.0a1->fsspec[http]>=2022.5.0->pytorch-lightning->autograd-lib) (1.18.3)\n",
            "Requirement already satisfied: six>=1.5 in d:\\miniconda3\\envs\\dl\\lib\\site-packages (from python-dateutil>=2.7->matplotlib!=3.6.1,>=3.4->seaborn->autograd-lib) (1.17.0)\n",
            "Requirement already satisfied: MarkupSafe>=2.0 in d:\\miniconda3\\envs\\dl\\lib\\site-packages (from jinja2->torch>=2.1.0->pytorch-lightning->autograd-lib) (3.0.2)\n",
            "Requirement already satisfied: idna>=2.0 in d:\\miniconda3\\envs\\dl\\lib\\site-packages (from yarl<2.0,>=1.17.0->aiohttp!=4.0.0a0,!=4.0.0a1->fsspec[http]>=2022.5.0->pytorch-lightning->autograd-lib) (3.7)\n"
          ]
        }
      ],
      "source": [
        "!pip install autograd-lib"
      ]
    },
    {
      "cell_type": "markdown",
      "metadata": {
        "id": "ZFGBCIFmVLS_"
      },
      "source": [
        "### Import Libraries\n"
      ]
    },
    {
      "cell_type": "code",
      "execution_count": 26,
      "metadata": {
        "id": "_-vjBvH0uqA-"
      },
      "outputs": [],
      "source": [
        "import numpy as np\n",
        "from math import pi\n",
        "from collections import defaultdict\n",
        "from autograd_lib import autograd_lib\n",
        "\n",
        "import torch\n",
        "import torch.nn as nn\n",
        "from torch.utils.data import DataLoader, Dataset\n",
        "\n",
        "import warnings\n",
        "warnings.filterwarnings(\"ignore\")"
      ]
    },
    {
      "cell_type": "markdown",
      "metadata": {
        "id": "ubbsl4dUVUj6"
      },
      "source": [
        "### Define NN Model\n",
        "The NN model here is used to fit a single variable math function.\n",
        "$$f(x) = \\frac{\\sin(5\\pi x)}{5\\pi x}.$$"
      ]
    },
    {
      "cell_type": "code",
      "execution_count": 27,
      "metadata": {
        "id": "uvdOpR9lVaJQ"
      },
      "outputs": [],
      "source": [
        "class MathRegressor(nn.Module):\n",
        "    def __init__(self, num_hidden=128):\n",
        "        super().__init__()\n",
        "        self.regressor = nn.Sequential(\n",
        "            nn.Linear(1, num_hidden),\n",
        "            nn.ReLU(),\n",
        "            nn.Linear(num_hidden, 1)\n",
        "        )\n",
        "\n",
        "    def forward(self, x):\n",
        "        x = self.regressor(x)\n",
        "        return x"
      ]
    },
    {
      "cell_type": "markdown",
      "metadata": {
        "id": "3nO0POKbWU9o"
      },
      "source": [
        "### Get Pretrained Checkpoints\n",
        "The pretrained checkpoints is done by TA. Each student will get a different checkpoint."
      ]
    },
    {
      "cell_type": "code",
      "execution_count": 28,
      "metadata": {
        "colab": {
          "base_uri": "https://localhost:8080/"
        },
        "id": "rUG_tQKLbIKB",
        "outputId": "46ab3391-f669-45cf-b3ae-a3a6ad901f4a"
      },
      "outputs": [
        {
          "name": "stderr",
          "output_type": "stream",
          "text": [
            "Downloading...\n",
            "From: https://drive.google.com/uc?id=1ym6G7KKNkbsqSnMmnxdQKHO1JBoF0LPR\n",
            "To: d:\\系统默认\\桌面\\dl\\HW02\\2-2\\data.pth\n",
            "\n",
            "  0%|          | 0.00/34.5k [00:00<?, ?B/s]\n",
            "100%|██████████| 34.5k/34.5k [00:00<00:00, 600kB/s]\n"
          ]
        }
      ],
      "source": [
        "!gdown 1ym6G7KKNkbsqSnMmnxdQKHO1JBoF0LPR"
      ]
    },
    {
      "cell_type": "markdown",
      "metadata": {
        "id": "kOFibHKCek_A"
      },
      "source": [
        "### Load Pretrained Checkpoints and Training Data"
      ]
    },
    {
      "cell_type": "code",
      "execution_count": 29,
      "metadata": {
        "id": "zkLZoCR51D7P"
      },
      "outputs": [],
      "source": [
        "# find the key from student_id\n",
        "import re\n",
        "\n",
        "key = student_id[-1]\n",
        "if re.match('[0-9]', key) is not None:\n",
        "    key = int(key)\n",
        "else:\n",
        "    key = ord(key) % 10"
      ]
    },
    {
      "cell_type": "code",
      "execution_count": 30,
      "metadata": {
        "id": "OSU8vnXEbY6q"
      },
      "outputs": [],
      "source": [
        "# load checkpoint and data corresponding to the key\n",
        "model = MathRegressor()\n",
        "autograd_lib.register(model)\n",
        "\n",
        "data = torch.load('data.pth')[key]\n",
        "model.load_state_dict(data['model'])\n",
        "train, target = data['data']"
      ]
    },
    {
      "cell_type": "markdown",
      "metadata": {
        "id": "EyBX5Gvvm_IW"
      },
      "source": [
        "### Function to compute gradient norm"
      ]
    },
    {
      "cell_type": "code",
      "execution_count": 31,
      "metadata": {
        "id": "2i8qGj2dnYBN"
      },
      "outputs": [],
      "source": [
        "# function to compute gradient norm\n",
        "def compute_gradient_norm(model, criterion, train, target):\n",
        "    model.train()\n",
        "    model.zero_grad()\n",
        "    output = model(train)\n",
        "    loss = criterion(output, target)\n",
        "    loss.backward()\n",
        "\n",
        "    grads = []\n",
        "    for p in model.regressor.children():\n",
        "        if isinstance(p, nn.Linear):\n",
        "            param_norm = p.weight.grad.norm(2).item()\n",
        "            grads.append(param_norm)\n",
        "\n",
        "    grad_mean = np.mean(grads) # compute mean of gradient norms\n",
        "\n",
        "    return grad_mean"
      ]
    },
    {
      "cell_type": "markdown",
      "metadata": {
        "id": "BSHRU6saoOnf"
      },
      "source": [
        "### Function to compute minimum ratio"
      ]
    },
    {
      "cell_type": "code",
      "execution_count": 32,
      "metadata": {
        "id": "zizIq6Y_o_UK"
      },
      "outputs": [],
      "source": [
        "# source code from the official document https://github.com/cybertronai/autograd-lib\n",
        "\n",
        "# helper function to save activations\n",
        "def save_activations(layer, A, _):\n",
        "    '''\n",
        "    A is the input of the layer, we use batch size of 6 here\n",
        "    layer 1: A has size of (6, 1)\n",
        "    layer 2: A has size of (6, 128)\n",
        "    '''\n",
        "    activations[layer] = A\n",
        "\n",
        "# helper function to compute Hessian matrix\n",
        "def compute_hess(layer, _, B):\n",
        "    '''\n",
        "    B is the backprop value of the layer\n",
        "    layer 1: B has size of (6, 128)\n",
        "    layer 2: B ahs size of (6, 1)\n",
        "    '''\n",
        "    A = activations[layer]\n",
        "    BA = torch.einsum('nl,ni->nli', B, A) # do batch-wise outer product\n",
        "\n",
        "    # full Hessian\n",
        "    hess[layer] += torch.einsum('nli,nkj->likj', BA, BA) # do batch-wise outer product, then sum over the batch"
      ]
    },
    {
      "cell_type": "code",
      "execution_count": 33,
      "metadata": {
        "id": "l0r4R_-soT58"
      },
      "outputs": [],
      "source": [
        "# function to compute the minimum ratio\n",
        "def compute_minimum_ratio(model, criterion, train, target):\n",
        "    model.zero_grad()\n",
        "    # compute Hessian matrix\n",
        "    # save the gradient of each layer\n",
        "    with autograd_lib.module_hook(save_activations):\n",
        "        output = model(train)\n",
        "        loss = criterion(output, target)\n",
        "\n",
        "    # compute Hessian according to the gradient value stored in the previous step\n",
        "    with autograd_lib.module_hook(compute_hess):\n",
        "        autograd_lib.backward_hessian(output, loss='LeastSquares')\n",
        "\n",
        "    layer_hess = list(hess.values())\n",
        "    minimum_ratio = []\n",
        "\n",
        "    # compute eigenvalues of the Hessian matrix\n",
        "    for h in layer_hess:\n",
        "        size = h.shape[0] * h.shape[1]\n",
        "        h = h.reshape(size, size)\n",
        "        h_eig = torch.symeig(h).eigenvalues # torch.symeig() returns eigenvalues and eigenvectors of a real symmetric matrix\n",
        "        num_greater = torch.sum(h_eig > 0).item()\n",
        "        minimum_ratio.append(num_greater / len(h_eig))\n",
        "\n",
        "    ratio_mean = np.mean(minimum_ratio) # compute mean of minimum ratio\n",
        "\n",
        "    return ratio_mean"
      ]
    },
    {
      "cell_type": "markdown",
      "metadata": {
        "id": "ABZhFwVZY3x3"
      },
      "source": [
        "### Mathematical Derivation\n",
        "\n",
        "Method used here: https://en.wikipedia.org/wiki/Gauss–Newton_algorithm\n",
        "\n",
        "> **Notations** \\\\\n",
        "> $\\mathbf{A}$: the input of the layer. \\\\\n",
        "> $\\mathbf{B}$: the backprop value. \\\\\n",
        "> $\\mathbf{Z}$: the output of the layer. \\\\\n",
        "> $L$: the total loss, mean squared error was used here, $L=e^2$. \\\\\n",
        "> $w$: the weight value.\n",
        "\n",
        "Assume that the input dimension of the layer is $n$, and the output dimension of the layer is $m$.\n",
        "\n",
        "The derivative of the loss is\n",
        "\n",
        "\\begin{align*}\n",
        "    \\left(\\frac{\\partial L}{\\partial w}\\right)_{nm} &= \\mathbf{A}_m \\mathbf{B}_n,\n",
        "\\end{align*}\n",
        "\n",
        "which can be written as\n",
        "\n",
        "\\begin{align*}\n",
        "    \\frac{\\partial L}{\\partial w} &= \\mathbf{B} \\times \\mathbf{A}.\n",
        "\\end{align*}\n",
        "\n",
        "The Hessian can be derived as\n",
        "\n",
        "\\begin{align*}\n",
        "    \\mathbf{H}_{ij}&=\\frac{\\partial^2 L}{\\partial w_i \\partial w_j} \\\\\n",
        "    &= \\frac{\\partial}{\\partial w_i}\\left(\\frac{\\partial L}{\\partial w_j}\\right) \\\\\n",
        "    &= \\frac{\\partial}{\\partial w_i}\\left(\\frac{2e\\partial e}{\\partial w_j}\\right) \\\\\n",
        "    &= 2\\frac{\\partial e}{\\partial w_i}\\frac{\\partial e}{\\partial w_j}+2e\\frac{\\partial^2 e}{\\partial w_j \\partial w_i}.\n",
        "\\end{align*}\n",
        "\n",
        "We neglect the second-order derivative term because the term is relatively small ($e$ is small)\n",
        "\n",
        "\\begin{align*}\n",
        "    \\mathbf{H}_{ij}\n",
        "    &\\propto \\frac{\\partial e}{\\partial w_i}\\frac{\\partial e}{\\partial w_j},\n",
        "\\end{align*}\n",
        "\n",
        "and as the error $e$ is a constant\n",
        "\n",
        "\\begin{align*}\n",
        "    \\mathbf{H}_{ij}\n",
        "    &\\propto \\frac{\\partial L}{\\partial w_i}\\frac{\\partial L}{\\partial w_j},\n",
        "\\end{align*}\n",
        "\n",
        "then the full Hessian becomes\n",
        "\n",
        "\\begin{align*}\n",
        "    \\mathbf{H} &\\propto (\\mathbf{B}\\times\\mathbf{A})\\times(\\mathbf{B}\\times\\mathbf{A}).\n",
        "\\end{align*}\n"
      ]
    },
    {
      "cell_type": "code",
      "execution_count": 34,
      "metadata": {
        "id": "1X-2uxwTcB9u"
      },
      "outputs": [],
      "source": [
        "# the main function to compute gradient norm and minimum ratio\n",
        "def main(model, train, target):\n",
        "    criterion = nn.MSELoss()\n",
        "\n",
        "    gradient_norm = compute_gradient_norm(model, criterion, train, target)\n",
        "    minimum_ratio = compute_minimum_ratio(model, criterion, train, target)\n",
        "\n",
        "    print('gradient norm: {}, minimum ratio: {}'.format(gradient_norm, minimum_ratio))"
      ]
    },
    {
      "cell_type": "markdown",
      "metadata": {
        "id": "uwHyQHc9w8k1"
      },
      "source": [
        "After running this block, you will get the value of `gradient norm` and `minimum ratio`. Determine whether the model is at `local minima like`, `saddle point`, or `none of the above`, and then submit your choice to NTU COOL."
      ]
    },
    {
      "cell_type": "code",
      "execution_count": 35,
      "metadata": {
        "colab": {
          "base_uri": "https://localhost:8080/"
        },
        "id": "877W_ShIzS7a",
        "outputId": "6c90fdd9-0bbd-405c-c781-457d265c1606"
      },
      "outputs": [
        {
          "ename": "RuntimeError",
          "evalue": "This function was deprecated since version 1.9 and is now removed. The default behavior has changed from using the upper triangular portion of the matrix by default to using the lower triangular portion.\n\nL, _ = torch.symeig(A, upper=upper) should be replaced with:\nL = torch.linalg.eigvalsh(A, UPLO='U' if upper else 'L')\n\nand\n\nL, V = torch.symeig(A, eigenvectors=True) should be replaced with:\nL, V = torch.linalg.eigh(A, UPLO='U' if upper else 'L')",
          "output_type": "error",
          "traceback": [
            "\u001b[1;31m---------------------------------------------------------------------------\u001b[0m",
            "\u001b[1;31mRuntimeError\u001b[0m                              Traceback (most recent call last)",
            "Cell \u001b[1;32mIn[35], line 10\u001b[0m\n\u001b[0;32m      7\u001b[0m hess \u001b[38;5;241m=\u001b[39m defaultdict(\u001b[38;5;28mfloat\u001b[39m)\n\u001b[0;32m      9\u001b[0m \u001b[38;5;66;03m# compute Hessian\u001b[39;00m\n\u001b[1;32m---> 10\u001b[0m \u001b[43mmain\u001b[49m\u001b[43m(\u001b[49m\u001b[43mmodel\u001b[49m\u001b[43m,\u001b[49m\u001b[43m \u001b[49m\u001b[43mtrain\u001b[49m\u001b[43m,\u001b[49m\u001b[43m \u001b[49m\u001b[43mtarget\u001b[49m\u001b[43m)\u001b[49m\n",
            "Cell \u001b[1;32mIn[34], line 6\u001b[0m, in \u001b[0;36mmain\u001b[1;34m(model, train, target)\u001b[0m\n\u001b[0;32m      3\u001b[0m criterion \u001b[38;5;241m=\u001b[39m nn\u001b[38;5;241m.\u001b[39mMSELoss()\n\u001b[0;32m      5\u001b[0m gradient_norm \u001b[38;5;241m=\u001b[39m compute_gradient_norm(model, criterion, train, target)\n\u001b[1;32m----> 6\u001b[0m minimum_ratio \u001b[38;5;241m=\u001b[39m \u001b[43mcompute_minimum_ratio\u001b[49m\u001b[43m(\u001b[49m\u001b[43mmodel\u001b[49m\u001b[43m,\u001b[49m\u001b[43m \u001b[49m\u001b[43mcriterion\u001b[49m\u001b[43m,\u001b[49m\u001b[43m \u001b[49m\u001b[43mtrain\u001b[49m\u001b[43m,\u001b[49m\u001b[43m \u001b[49m\u001b[43mtarget\u001b[49m\u001b[43m)\u001b[49m\n\u001b[0;32m      8\u001b[0m \u001b[38;5;28mprint\u001b[39m(\u001b[38;5;124m'\u001b[39m\u001b[38;5;124mgradient norm: \u001b[39m\u001b[38;5;132;01m{}\u001b[39;00m\u001b[38;5;124m, minimum ratio: \u001b[39m\u001b[38;5;132;01m{}\u001b[39;00m\u001b[38;5;124m'\u001b[39m\u001b[38;5;241m.\u001b[39mformat(gradient_norm, minimum_ratio))\n",
            "Cell \u001b[1;32mIn[33], line 21\u001b[0m, in \u001b[0;36mcompute_minimum_ratio\u001b[1;34m(model, criterion, train, target)\u001b[0m\n\u001b[0;32m     19\u001b[0m size \u001b[38;5;241m=\u001b[39m h\u001b[38;5;241m.\u001b[39mshape[\u001b[38;5;241m0\u001b[39m] \u001b[38;5;241m*\u001b[39m h\u001b[38;5;241m.\u001b[39mshape[\u001b[38;5;241m1\u001b[39m]\n\u001b[0;32m     20\u001b[0m h \u001b[38;5;241m=\u001b[39m h\u001b[38;5;241m.\u001b[39mreshape(size, size)\n\u001b[1;32m---> 21\u001b[0m h_eig \u001b[38;5;241m=\u001b[39m \u001b[43mtorch\u001b[49m\u001b[38;5;241;43m.\u001b[39;49m\u001b[43msymeig\u001b[49m\u001b[43m(\u001b[49m\u001b[43mh\u001b[49m\u001b[43m)\u001b[49m\u001b[38;5;241m.\u001b[39meigenvalues \u001b[38;5;66;03m# torch.symeig() returns eigenvalues and eigenvectors of a real symmetric matrix\u001b[39;00m\n\u001b[0;32m     22\u001b[0m num_greater \u001b[38;5;241m=\u001b[39m torch\u001b[38;5;241m.\u001b[39msum(h_eig \u001b[38;5;241m>\u001b[39m \u001b[38;5;241m0\u001b[39m)\u001b[38;5;241m.\u001b[39mitem()\n\u001b[0;32m     23\u001b[0m minimum_ratio\u001b[38;5;241m.\u001b[39mappend(num_greater \u001b[38;5;241m/\u001b[39m \u001b[38;5;28mlen\u001b[39m(h_eig))\n",
            "File \u001b[1;32md:\\miniconda3\\envs\\dl\\Lib\\site-packages\\torch\\_linalg_utils.py:118\u001b[0m, in \u001b[0;36m_symeig\u001b[1;34m(input, eigenvectors, upper, out)\u001b[0m\n\u001b[0;32m    111\u001b[0m \u001b[38;5;28;01mdef\u001b[39;00m\u001b[38;5;250m \u001b[39m\u001b[38;5;21m_symeig\u001b[39m(\n\u001b[0;32m    112\u001b[0m     \u001b[38;5;28minput\u001b[39m,\n\u001b[0;32m    113\u001b[0m     eigenvectors\u001b[38;5;241m=\u001b[39m\u001b[38;5;28;01mFalse\u001b[39;00m,\n\u001b[1;32m   (...)\u001b[0m\n\u001b[0;32m    116\u001b[0m     out\u001b[38;5;241m=\u001b[39m\u001b[38;5;28;01mNone\u001b[39;00m,\n\u001b[0;32m    117\u001b[0m ) \u001b[38;5;241m-\u001b[39m\u001b[38;5;241m>\u001b[39m Tuple[Tensor, Tensor]:\n\u001b[1;32m--> 118\u001b[0m     \u001b[38;5;28;01mraise\u001b[39;00m \u001b[38;5;167;01mRuntimeError\u001b[39;00m(\n\u001b[0;32m    119\u001b[0m         \u001b[38;5;124m\"\u001b[39m\u001b[38;5;124mThis function was deprecated since version 1.9 and is now removed. \u001b[39m\u001b[38;5;124m\"\u001b[39m\n\u001b[0;32m    120\u001b[0m         \u001b[38;5;124m\"\u001b[39m\u001b[38;5;124mThe default behavior has changed from using the upper triangular portion of the matrix by default \u001b[39m\u001b[38;5;124m\"\u001b[39m\n\u001b[0;32m    121\u001b[0m         \u001b[38;5;124m\"\u001b[39m\u001b[38;5;124mto using the lower triangular portion.\u001b[39m\u001b[38;5;130;01m\\n\u001b[39;00m\u001b[38;5;130;01m\\n\u001b[39;00m\u001b[38;5;124m\"\u001b[39m\n\u001b[0;32m    122\u001b[0m         \u001b[38;5;124m\"\u001b[39m\u001b[38;5;124mL, _ = torch.symeig(A, upper=upper) \u001b[39m\u001b[38;5;124m\"\u001b[39m\n\u001b[0;32m    123\u001b[0m         \u001b[38;5;124m\"\u001b[39m\u001b[38;5;124mshould be replaced with:\u001b[39m\u001b[38;5;130;01m\\n\u001b[39;00m\u001b[38;5;124m\"\u001b[39m\n\u001b[0;32m    124\u001b[0m         \u001b[38;5;124m\"\u001b[39m\u001b[38;5;124mL = torch.linalg.eigvalsh(A, UPLO=\u001b[39m\u001b[38;5;124m'\u001b[39m\u001b[38;5;124mU\u001b[39m\u001b[38;5;124m'\u001b[39m\u001b[38;5;124m if upper else \u001b[39m\u001b[38;5;124m'\u001b[39m\u001b[38;5;124mL\u001b[39m\u001b[38;5;124m'\u001b[39m\u001b[38;5;124m)\u001b[39m\u001b[38;5;130;01m\\n\u001b[39;00m\u001b[38;5;130;01m\\n\u001b[39;00m\u001b[38;5;124m\"\u001b[39m\n\u001b[0;32m    125\u001b[0m         \u001b[38;5;124m\"\u001b[39m\u001b[38;5;124mand\u001b[39m\u001b[38;5;130;01m\\n\u001b[39;00m\u001b[38;5;130;01m\\n\u001b[39;00m\u001b[38;5;124m\"\u001b[39m\n\u001b[0;32m    126\u001b[0m         \u001b[38;5;124m\"\u001b[39m\u001b[38;5;124mL, V = torch.symeig(A, eigenvectors=True) \u001b[39m\u001b[38;5;124m\"\u001b[39m\n\u001b[0;32m    127\u001b[0m         \u001b[38;5;124m\"\u001b[39m\u001b[38;5;124mshould be replaced with:\u001b[39m\u001b[38;5;130;01m\\n\u001b[39;00m\u001b[38;5;124m\"\u001b[39m\n\u001b[0;32m    128\u001b[0m         \u001b[38;5;124m\"\u001b[39m\u001b[38;5;124mL, V = torch.linalg.eigh(A, UPLO=\u001b[39m\u001b[38;5;124m'\u001b[39m\u001b[38;5;124mU\u001b[39m\u001b[38;5;124m'\u001b[39m\u001b[38;5;124m if upper else \u001b[39m\u001b[38;5;124m'\u001b[39m\u001b[38;5;124mL\u001b[39m\u001b[38;5;124m'\u001b[39m\u001b[38;5;124m)\u001b[39m\u001b[38;5;124m\"\u001b[39m\n\u001b[0;32m    129\u001b[0m     )\n",
            "\u001b[1;31mRuntimeError\u001b[0m: This function was deprecated since version 1.9 and is now removed. The default behavior has changed from using the upper triangular portion of the matrix by default to using the lower triangular portion.\n\nL, _ = torch.symeig(A, upper=upper) should be replaced with:\nL = torch.linalg.eigvalsh(A, UPLO='U' if upper else 'L')\n\nand\n\nL, V = torch.symeig(A, eigenvectors=True) should be replaced with:\nL, V = torch.linalg.eigh(A, UPLO='U' if upper else 'L')"
          ]
        }
      ],
      "source": [
        "if __name__ == '__main__':\n",
        "    # fix random seed\n",
        "    torch.manual_seed(0)\n",
        "\n",
        "    # reset compute dictionaries\n",
        "    activations = defaultdict(int)\n",
        "    hess = defaultdict(float)\n",
        "\n",
        "    # compute Hessian\n",
        "    main(model, train, target)"
      ]
    }
  ],
  "metadata": {
    "colab": {
      "include_colab_link": true,
      "name": "SHARE MLSpring2021 - HW2-2.ipynb",
      "provenance": []
    },
    "kernelspec": {
      "display_name": "dl",
      "language": "python",
      "name": "python3"
    },
    "language_info": {
      "codemirror_mode": {
        "name": "ipython",
        "version": 3
      },
      "file_extension": ".py",
      "mimetype": "text/x-python",
      "name": "python",
      "nbconvert_exporter": "python",
      "pygments_lexer": "ipython3",
      "version": "3.11.11"
    }
  },
  "nbformat": 4,
  "nbformat_minor": 0
}
